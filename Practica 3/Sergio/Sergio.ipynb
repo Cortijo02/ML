{
 "cells": [
  {
   "cell_type": "markdown",
   "id": "cff83ca0-2070-4429-a2b1-2c4f80661b28",
   "metadata": {},
   "source": [
    "---\n",
    "\n",
    "<center><h2>Cargar librerias</h2></center>\n",
    "\n",
    "---"
   ]
  },
  {
   "cell_type": "code",
   "execution_count": 1,
   "id": "fb40de3a-3cae-4e5b-a7a7-f43c48ac7102",
   "metadata": {},
   "outputs": [],
   "source": [
    "#!pip install scikit-image\n",
    "\n",
    "import os\n",
    "import skimage\n",
    "import cv2\n",
    "import pandas as pd\n",
    "import numpy as np\n",
    "\n",
    "\n",
    "import matplotlib.pyplot as plt\n",
    "\n",
    "from sklearn.metrics.cluster import adjusted_rand_score\n",
    "from sklearn.cluster import KMeans\n",
    "from skimage import io\n"
   ]
  },
  {
   "cell_type": "code",
   "execution_count": 2,
   "id": "4d34f29d-ec69-46b6-b7fd-1107ad00d796",
   "metadata": {},
   "outputs": [],
   "source": [
    "#!pip uninstall skimage pandas numpy cv2 -y\n",
    "#!pip install numpy"
   ]
  },
  {
   "cell_type": "markdown",
   "id": "6c2f1900-a3e4-4e75-9597-058525f0b5a5",
   "metadata": {},
   "source": [
    "---\n",
    "\n",
    "<center><h2>Leer imagenes del zip</h2></center>\n",
    "\n",
    "---"
   ]
  },
  {
   "cell_type": "code",
   "execution_count": 3,
   "id": "3735eee4-7f1b-4d06-9854-f3f31061f304",
   "metadata": {},
   "outputs": [],
   "source": [
    "def read_folder(path):\n",
    "    files = [ os.path.join(path, file) for file in os.listdir(path) if file.endswith(\".jpg\") ]\n",
    "    return sorted(files, key=lambda name: int(name.split(\"/\")[-1][:-4]))\n",
    "\n",
    "def to_imgs(imgs):\n",
    "    return np.array([skimage.io.imread(x) for x in imgs])\n",
    "\n",
    "X_files = read_folder(\"../zip/train/\")\n",
    "Y_files = read_folder(\"../zip/test/\")\n",
    "\n",
    "X_imgs = to_imgs(X_files)\n",
    "Y_imgs = to_imgs(Y_files)\n",
    "\n",
    "# Cluster al que corresponde cada carta en test.zip\n",
    "y_clusters = [ int(x) for x in open(\"../zip/test_clusters.txt\").read().split(\", \") ]"
   ]
  },
  {
   "cell_type": "markdown",
   "id": "a1ce44bb-bcb0-40b7-9e94-20fd1308961e",
   "metadata": {},
   "source": [
    "---\n",
    "\n",
    "<center><h2>Preprocesamiento de imagenes</h2></center>\n",
    "\n",
    "---"
   ]
  },
  {
   "cell_type": "code",
   "execution_count": 4,
   "id": "aa7bb036-953e-482a-87cf-88ce2ab1d544",
   "metadata": {},
   "outputs": [],
   "source": [
    "def plot_image(img):\n",
    "    skimage.io.imshow(img)\n",
    "\n",
    "######################\n",
    "# Plotting functions #\n",
    "######################\n",
    "def plot_comparison(imgs1, imgs2, row=0):\n",
    "  fig, axs = plt.subplots(ncols=10, nrows=2, figsize=(30, 5))\n",
    "\n",
    "  for x in range(10):\n",
    "    axs[0][x].imshow(imgs1[row*10 + x])\n",
    " \n",
    "  for x in range(10):\n",
    "    axs[1][x].imshow(imgs2[row*10 + x])\n",
    "\n",
    "def plot_10_rows(imgs):\n",
    "    rows, cols = 10, 10\n",
    "    fig, axs = plt.subplots(rows, cols, figsize=(30, 50))\n",
    "    \n",
    "    for y in range(rows):\n",
    "        for x in range(cols):\n",
    "            axs[y][x].imshow(imgs[rows*y + x])\n",
    "\n",
    "##################\n",
    "# File functions #\n",
    "##################\n",
    "def save_files(imgs, folder, files):\n",
    "    files = [ f.split(\"/\")[-1] for f in files ]\n",
    "    \n",
    "    for i, img in enumerate(imgs):\n",
    "        cv2.imwrite(folder + files[i], img)\n",
    "\n",
    "#save_files(X_imgs[:10], \"../zip/test/\", X_files)"
   ]
  },
  {
   "cell_type": "code",
   "execution_count": 5,
   "id": "a0b2c417-e10c-4155-94d3-32f1dcebc613",
   "metadata": {},
   "outputs": [],
   "source": [
    "##############################\n",
    "# Cluster plotting functions #\n",
    "##############################\n",
    "def print_cluster_sizes(pred, y_clusters):\n",
    "    print(\"Clusters:\")\n",
    "    for cluster in set(pred):\n",
    "        print(\"  \", cluster, \"size\", len([_ for _ in pred if _ == cluster]))\n",
    "\n",
    "    print(\"\\nReal clusters:\")\n",
    "    for cluster in set(y_clusters):\n",
    "        print(\"  \", cluster, \"size\", len([_ for _ in y_clusters if _ == cluster]))\n",
    "\n",
    "    print()\n",
    "\n",
    "def draw_clusters(imgs, pred):\n",
    "    figheights = { 1: 5, 2: 7, 3: 10, 4: 15, 5: 16, 6: 20, 7: 25, 8: 28, 9: 30, 10: 35, 11: 40, 12: 45, 13: 50 }\n",
    "    \n",
    "    for targetClusterN in range(5):\n",
    "        cluster_size = len([_ for _ in pred if _ == targetClusterN])\n",
    "        nrows = cluster_size//10 + (1 if cluster_size%10 != 0 else 0)\n",
    "        \n",
    "        fig, axs = plt.subplots(ncols=10, nrows=nrows, figsize=(30, figheights[nrows]))\n",
    "        fig.tight_layout()\n",
    "        plt.figure(constrained_layout=True)\n",
    "        \n",
    "        # ax que va a tener el titulo\n",
    "        title_ax = axs[0][0] if nrows > 1 else axs[0]\n",
    "        title_ax.set_title(\"\\nCluster \" + str(targetClusterN) + \"\\n\", fontsize=15)\n",
    "\n",
    "        y, x = 0, 0\n",
    "\n",
    "        for i, clusterN in enumerate(pred):\n",
    "            if clusterN == targetClusterN:\n",
    "                if nrows > 1: axs[y][x].imshow(imgs[i], aspect=\"auto\")\n",
    "                else: axs[x].imshow(imgs[i], aspect=\"auto\")\n",
    "                \n",
    "                x += 1\n",
    "\n",
    "            if x == 10:\n",
    "                x = 0\n",
    "                y += 1"
   ]
  },
  {
   "cell_type": "code",
   "execution_count": 12,
   "id": "5aef9bfe-1e86-4d14-8b95-5749179e83c9",
   "metadata": {
    "tags": []
   },
   "outputs": [],
   "source": [
    "############################\n",
    "# Transformation functions #\n",
    "############################\n",
    "\n",
    "class Transformator:\n",
    "    def __init__(self, img):\n",
    "        self.img = img.copy()\n",
    "        self.past = {}\n",
    "    \n",
    "    ################\n",
    "    # Color spaces #\n",
    "    ################\n",
    "    def grayscale(self):\n",
    "        self.img = cv2.cvtColor(self.img, cv2.COLOR_BGR2GRAY)\n",
    "        #self.img = cv2.cvtColor(self.img, cv2.COLOR_GRAY2BGR)\n",
    "        \n",
    "        return self\n",
    "    \n",
    "    def hsv(self):\n",
    "        self.img = cv2.cvtColor(self.img, cv2.COLOR_BGR2HSV)\n",
    "        \n",
    "        return self\n",
    "    \n",
    "    def blur(self, val=(5, 5)):\n",
    "        self.img = cv2.GaussianBlur(self.img, val, 0) # Parece funcionar bien\n",
    "        #self.img = cv2.medianBlur(self.img, 5)\n",
    "        #self.img = cv2.blur(self.img, val)\n",
    "        #self.img = cv2.boxFilter(self.img, 5, 5) # No funciona\n",
    "        \n",
    "        #self.img = cv2.bilateralFilter(self.img, -1, 75, 75) # No termina\n",
    "        \n",
    "        return self\n",
    "        \n",
    "    def increase_contrast_brightness(self, contrast=1.0, brightness=0.0):\n",
    "        self.img = contrast*self.img + brightness\n",
    "        \n",
    "        return self\n",
    "\n",
    "    def increase_brightness(self, amt=20):\n",
    "        hsv = cv2.cvtColor(self.img, cv2.COLOR_BGR2HSV)\n",
    "        h, s, v = cv2.split(hsv)\n",
    "    \n",
    "        lim = 255 - amt\n",
    "        v[v > lim] = 255\n",
    "        v[v <= lim] += amt\n",
    "\n",
    "        final_hsv = cv2.merge((h, s, v))\n",
    "        self.img = cv2.cvtColor(final_hsv, cv2.COLOR_HSV2BGR)\n",
    "    \n",
    "        return self\n",
    "    \n",
    "    def denoise(self):\n",
    "        #gray = cv2.cvtColor(self.img, cv2.COLOR_BGR2GRAY)\n",
    "        self.img = cv2.cvtColor(self.img, cv2.COLOR_BGR2RGB)\n",
    "        self.img = cv2.fastNlMeansDenoisingColored(self.img, None, 20, 7, 21)\n",
    "        self.img = cv2.cvtColor(self.img, cv2.COLOR_RGB2BGR)\n",
    "        #self.img = cv2.cvtColor(self.img, cv2.COLOR_GRAY2BGR)\n",
    "        #sigma_est = skimage.restoration.estimate_sigma(self.img, channel_axis=-1, average_sigmas=True)\n",
    "        #imgs = skimage.util.random_noise(imgs, var=0.1\n",
    "        #self.img = skimage.restoration.denoise_tv_chambolle(self.img, weight=0.1, channel_axis=-1)\n",
    "        \n",
    "        return self\n",
    "    \n",
    "    # experimental\n",
    "    def remove_empty_space(self, treshold, limit_x, limit_y):\n",
    "        backup = self.img.copy()\n",
    "        \n",
    "        # Horizontal\n",
    "        while self.img.shape[1] > limit_x:\n",
    "            left_col = self.img[:, 0]\n",
    "            pixel_set = set()\n",
    "            \n",
    "            for pixel in left_col:\n",
    "                pixel_set.add(tuple(pixel))\n",
    "                \n",
    "            if len(pixel_set) < treshold:\n",
    "                self.img = self.img[:, 1:]\n",
    "            else:\n",
    "                break\n",
    "        \n",
    "        # Vertical\n",
    "        while self.img.shape[0] > limit_y:\n",
    "            #print(self.img.shape)\n",
    "            top_row = self.img[0, :]\n",
    "            pixel_set = set()\n",
    "            \n",
    "            for pixel in top_row:\n",
    "                pixel_set.add(tuple(pixel))\n",
    "                \n",
    "            if len(pixel_set) < treshold:\n",
    "                self.img = self.img[1:, :]\n",
    "            else:\n",
    "                break\n",
    "        \n",
    "        if self.img.shape[0] == 0:\n",
    "            self.img = backup\n",
    "        \n",
    "        return self\n",
    "\n",
    "    # Oscurecer zonas fuera de un determinado umbral\n",
    "    def treshold_test(self, amt=1):\n",
    "        gray_img = skimage.color.rgb2gray(self.img)\n",
    "        blurred_img = skimage.filters.gaussian(gray_img, sigma=1.0)\n",
    "    \n",
    "        t = skimage.filters.threshold_otsu(blurred_img)\n",
    "    \n",
    "        binary_mask = blurred_img > t\n",
    "        selection = self.img\n",
    "        selection[~binary_mask] = 0\n",
    "    \n",
    "        self.img = selection\n",
    "        \n",
    "        return self\n",
    "    \n",
    "    def threshold(self):\n",
    "        gray = cv2.cvtColor(self.img, cv2.COLOR_BGR2GRAY)\n",
    "        ret, thresh = cv2.threshold(gray, 0, 255, cv2.THRESH_BINARY_INV+cv2.THRESH_OTSU)\n",
    "        \n",
    "        self.img = cv2.cvtColor(thresh, cv2.COLOR_GRAY2BGR)\n",
    "        \n",
    "        return self\n",
    "    \n",
    "    def threshold_and(self):\n",
    "        gray = cv2.cvtColor(self.img,cv2.COLOR_BGR2GRAY)\n",
    "        ret, thresh = cv2.threshold(gray, 0, 255, cv2.THRESH_BINARY_INV+cv2.THRESH_OTSU)\n",
    "\n",
    "        self.img = cv2.bitwise_and(self.img, self.img, mask=thresh)\n",
    "        \n",
    "        return self\n",
    "\n",
    "    # Invertir los colores si es predominantemente negra\n",
    "    # No funciona mucho.\n",
    "    def invert_if_black(self, treshold=150):\n",
    "        avg_color = self.img.mean(axis=0).mean(axis=0)\n",
    "        \n",
    "        if avg_color[0] + avg_color[1] < treshold or avg_color[0]+avg_color[2] < treshold or avg_color[1]+avg_color[2] < treshold:\n",
    "            self.img = cv2.bitwise_not(self.img)\n",
    "        \n",
    "        return self\n",
    "    \n",
    "    # TODO: Todavia no actualiza el histograma\n",
    "    def equalize_histogram(self):\n",
    "        # Contrast stretching\n",
    "        percentile_2, percentile_98 = np.percentile(self.img, (0, 100))\n",
    "        self.img = skimage.exposure.rescale_intensity(self.img, in_range=(percentile_2, percentile_98))\n",
    "        \n",
    "        #self.img = cv2.normalize(self.img, dst=None, alpha=0, beta=255, norm_type=cv2.NORM_MINMAX, dtype=cv2.CV_8U)\n",
    "        #self.img = skimage.exposure.equalize_hist(self.img)\n",
    "        \n",
    "        return self\n",
    "    \n",
    "    def resize(self, h=100, w=100):\n",
    "        self.img = cv2.resize(self.img, (w, h)) \n",
    "        \n",
    "        return self\n",
    "\n",
    "    # Normaliza la imagen entre 0 y 1\n",
    "    def normalize(self):\n",
    "        gray_img = skimage.color.rgb2gray(self.img)\n",
    "        \n",
    "        #self.img = (gray_img - np.min(gray_img)) / (np.max(gray_img) - np.min(gray_img))\n",
    "\n",
    "        self.img = (self.img - np.min(self.img)) / (np.max(self.img) - np.min(self.img))\n",
    "        \n",
    "        return self\n",
    "    \n",
    "    def mask(self, black=([0, 0, 0], [100, 100, 100]), red=([80, 70, 50], [100, 255, 255])):\n",
    "        img = self.img\n",
    "        \n",
    "        lower_black = np.array(black[0], dtype = \"uint16\")\n",
    "        upper_black = np.array(black[1], dtype = \"uint16\")\n",
    "        black_mask = cv2.inRange(img, lower_black, upper_black)\n",
    "\n",
    "        lower_red = np.array(red[0], dtype = \"uint16\")\n",
    "        upper_red = np.array(red[1], dtype = \"uint16\")\n",
    "        red_mask  = cv2.inRange(img, lower_red, upper_red)\n",
    "\n",
    "        # convert to LAB color space\n",
    "        lab = cv2.cvtColor(img, cv2.COLOR_BGR2LAB)\n",
    "\n",
    "        # Perform Otsu threshold on the A-channel\n",
    "        th = cv2.threshold(lab[:,:,2], 127, 255, cv2.THRESH_BINARY_INV + cv2.THRESH_OTSU)[1]\n",
    "        \n",
    "        self.img = black_mask | th\n",
    "        \n",
    "        return self\n",
    "    \n",
    "    def remove_channel(self, channel=2):\n",
    "        self.img[:,:,2] = np.zeros([self.img.shape[0], self.img.shape[1]])\n",
    "        \n",
    "        return self\n",
    "    \n",
    "    def sobel(self):\n",
    "        self.img = skimage.filters.sobel(self.img)\n",
    "        \n",
    "        return self\n",
    "    \n",
    "    ########################\n",
    "    # Morphology functions #\n",
    "    ########################\n",
    "    def erode(self):\n",
    "        kernel = np.ones((5, 5), np.uint8)\n",
    "        self.img = cv2.erode(self.img, kernel, iterations=1)\n",
    "\n",
    "        return self\n",
    "    \n",
    "    def dilate(self):\n",
    "        kernel = np.ones((5, 5), np.uint8)\n",
    "        self.img = cv2.dilate(self.img,kernel,iterations = 1)\n",
    "\n",
    "        return self\n",
    "    \n",
    "    # erosion followed by dilation\n",
    "    def opening(self):\n",
    "        kernel = np.ones((5, 5), np.uint8)\n",
    "        self.img = cv2.morphologyEx(self.img, cv2.MORPH_OPEN, kernel)\n",
    "        \n",
    "        return self\n",
    "    \n",
    "    # dilation followed by erosion\n",
    "    def closing(self):\n",
    "        kernel = np.ones((5, 5), np.uint8)\n",
    "        self.img = cv2.morphologyEx(self.img, cv2.MORPH_CLOSE, kernel)\n",
    "        \n",
    "        return self\n",
    "    \n",
    "    def gradient(self):\n",
    "        kernel = np.ones((5, 5), np.uint8)\n",
    "        self.img = cv2.morphologyEx(self.img, cv2.MORPH_GRADIENT, kernel)\n",
    "        \n",
    "        return self\n",
    "    \n",
    "    ################\n",
    "    # Segmentation #\n",
    "    ################\n",
    "    def segmentate(self):\n",
    "        img = self.img\n",
    "\n",
    "        gray = cv2.cvtColor(img,cv2.COLOR_BGR2GRAY)\n",
    "        ret, thresh = cv2.threshold(gray,0,255,cv2.THRESH_BINARY_INV+cv2.THRESH_OTSU)\n",
    "\n",
    "        # noise removal\n",
    "        kernel = np.ones((3,3),np.uint8)\n",
    "        opening = cv2.morphologyEx(thresh,cv2.MORPH_OPEN,kernel, iterations = 2)\n",
    "\n",
    "        # sure background area\n",
    "        sure_bg = cv2.dilate(opening,kernel,iterations=3)\n",
    "\n",
    "        # Finding sure foreground area\n",
    "        dist_transform = cv2.distanceTransform(opening,cv2.DIST_L2,5)\n",
    "        ret, sure_fg = cv2.threshold(dist_transform,0.7*dist_transform.max(),255,0)\n",
    "\n",
    "        # Finding unknown region\n",
    "        sure_fg = np.uint8(sure_fg)\n",
    "        unknown = cv2.subtract(sure_bg,sure_fg)\n",
    "\n",
    "        # Marker labelling\n",
    "        ret, markers = cv2.connectedComponents(sure_fg)\n",
    "        # Add one to all labels so that sure background is not 0, but 1\n",
    "        markers = markers+1\n",
    "        # Now, mark the region of unknown with zero\n",
    "        markers[unknown==255] = 0\n",
    "\n",
    "        markers = cv2.watershed(img,markers)\n",
    "        img[markers == -1] = [255,0,0]\n",
    "\n",
    "        self.img = img\n",
    "        \n",
    "        return self\n",
    "    \n",
    "    ######################\n",
    "    # Recortar la imagen #\n",
    "    ######################\n",
    "    def crop(self, x1, x2, y1, y2):\n",
    "        size = 224\n",
    "        self.img = self.img[y1:y2, x1:x2]\n",
    "        #self.img = self.img[0:50, :] + self.img[size-50:, :]\n",
    "        #self.img = self.img[:, 0:50] + self.img[:, size-50:]\n",
    "        \n",
    "        return self\n",
    "    \n",
    "    \n",
    "    def transform_imgs(imgs):\n",
    "        \n",
    "    \n",
    "        return self"
   ]
  },
  {
   "cell_type": "code",
   "execution_count": 19,
   "id": "5adf424b-ca83-4c7f-a3a9-b95fff884f8b",
   "metadata": {},
   "outputs": [
    {
     "name": "stderr",
     "output_type": "stream",
     "text": [
      "C:\\Users\\Sergio\\AppData\\Local\\Temp\\ipykernel_1580\\1255945634.py:21: RuntimeWarning: More than 20 figures have been opened. Figures created through the pyplot interface (`matplotlib.pyplot.figure`) are retained until explicitly closed and may consume too much memory. (To control this warning, see the rcParam `figure.max_open_warning`). Consider using `matplotlib.pyplot.close()`.\n",
      "  plt.figure()\n"
     ]
    },
    {
     "data": {
      "text/plain": [
       "<Figure size 640x480 with 0 Axes>"
      ]
     },
     "metadata": {},
     "output_type": "display_data"
    },
    {
     "data": {
      "text/plain": [
       "<Figure size 640x480 with 0 Axes>"
      ]
     },
     "metadata": {},
     "output_type": "display_data"
    },
    {
     "data": {
      "text/plain": [
       "<Figure size 640x480 with 0 Axes>"
      ]
     },
     "metadata": {},
     "output_type": "display_data"
    },
    {
     "data": {
      "text/plain": [
       "<Figure size 640x480 with 0 Axes>"
      ]
     },
     "metadata": {},
     "output_type": "display_data"
    },
    {
     "data": {
      "text/plain": [
       "<Figure size 640x480 with 0 Axes>"
      ]
     },
     "metadata": {},
     "output_type": "display_data"
    },
    {
     "data": {
      "text/plain": [
       "<Figure size 640x480 with 0 Axes>"
      ]
     },
     "metadata": {},
     "output_type": "display_data"
    },
    {
     "data": {
      "text/plain": [
       "<Figure size 640x480 with 0 Axes>"
      ]
     },
     "metadata": {},
     "output_type": "display_data"
    },
    {
     "data": {
      "text/plain": [
       "<Figure size 640x480 with 0 Axes>"
      ]
     },
     "metadata": {},
     "output_type": "display_data"
    },
    {
     "data": {
      "text/plain": [
       "<Figure size 640x480 with 0 Axes>"
      ]
     },
     "metadata": {},
     "output_type": "display_data"
    },
    {
     "data": {
      "text/plain": [
       "<Figure size 640x480 with 0 Axes>"
      ]
     },
     "metadata": {},
     "output_type": "display_data"
    },
    {
     "data": {
      "text/plain": [
       "<Figure size 640x480 with 0 Axes>"
      ]
     },
     "metadata": {},
     "output_type": "display_data"
    },
    {
     "data": {
      "text/plain": [
       "<Figure size 640x480 with 0 Axes>"
      ]
     },
     "metadata": {},
     "output_type": "display_data"
    },
    {
     "data": {
      "text/plain": [
       "<Figure size 640x480 with 0 Axes>"
      ]
     },
     "metadata": {},
     "output_type": "display_data"
    },
    {
     "data": {
      "text/plain": [
       "<Figure size 640x480 with 0 Axes>"
      ]
     },
     "metadata": {},
     "output_type": "display_data"
    },
    {
     "data": {
      "text/plain": [
       "<Figure size 640x480 with 0 Axes>"
      ]
     },
     "metadata": {},
     "output_type": "display_data"
    },
    {
     "data": {
      "text/plain": [
       "<Figure size 640x480 with 0 Axes>"
      ]
     },
     "metadata": {},
     "output_type": "display_data"
    },
    {
     "data": {
      "text/plain": [
       "<Figure size 640x480 with 0 Axes>"
      ]
     },
     "metadata": {},
     "output_type": "display_data"
    },
    {
     "data": {
      "text/plain": [
       "<Figure size 640x480 with 0 Axes>"
      ]
     },
     "metadata": {},
     "output_type": "display_data"
    },
    {
     "data": {
      "text/plain": [
       "<Figure size 640x480 with 0 Axes>"
      ]
     },
     "metadata": {},
     "output_type": "display_data"
    },
    {
     "data": {
      "text/plain": [
       "<Figure size 640x480 with 0 Axes>"
      ]
     },
     "metadata": {},
     "output_type": "display_data"
    },
    {
     "data": {
      "text/plain": [
       "<Figure size 640x480 with 0 Axes>"
      ]
     },
     "metadata": {},
     "output_type": "display_data"
    },
    {
     "data": {
      "text/plain": [
       "<Figure size 640x480 with 0 Axes>"
      ]
     },
     "metadata": {},
     "output_type": "display_data"
    },
    {
     "data": {
      "text/plain": [
       "<Figure size 640x480 with 0 Axes>"
      ]
     },
     "metadata": {},
     "output_type": "display_data"
    },
    {
     "data": {
      "text/plain": [
       "<Figure size 640x480 with 0 Axes>"
      ]
     },
     "metadata": {},
     "output_type": "display_data"
    },
    {
     "data": {
      "text/plain": [
       "<Figure size 640x480 with 0 Axes>"
      ]
     },
     "metadata": {},
     "output_type": "display_data"
    },
    {
     "data": {
      "text/plain": [
       "<Figure size 640x480 with 0 Axes>"
      ]
     },
     "metadata": {},
     "output_type": "display_data"
    },
    {
     "data": {
      "text/plain": [
       "<Figure size 640x480 with 0 Axes>"
      ]
     },
     "metadata": {},
     "output_type": "display_data"
    },
    {
     "data": {
      "text/plain": [
       "<Figure size 640x480 with 0 Axes>"
      ]
     },
     "metadata": {},
     "output_type": "display_data"
    },
    {
     "data": {
      "text/plain": [
       "<Figure size 640x480 with 0 Axes>"
      ]
     },
     "metadata": {},
     "output_type": "display_data"
    },
    {
     "data": {
      "text/plain": [
       "<Figure size 640x480 with 0 Axes>"
      ]
     },
     "metadata": {},
     "output_type": "display_data"
    },
    {
     "data": {
      "text/plain": [
       "<Figure size 640x480 with 0 Axes>"
      ]
     },
     "metadata": {},
     "output_type": "display_data"
    },
    {
     "data": {
      "text/plain": [
       "<Figure size 640x480 with 0 Axes>"
      ]
     },
     "metadata": {},
     "output_type": "display_data"
    },
    {
     "data": {
      "text/plain": [
       "<Figure size 640x480 with 0 Axes>"
      ]
     },
     "metadata": {},
     "output_type": "display_data"
    },
    {
     "data": {
      "text/plain": [
       "<Figure size 640x480 with 0 Axes>"
      ]
     },
     "metadata": {},
     "output_type": "display_data"
    },
    {
     "data": {
      "text/plain": [
       "<Figure size 640x480 with 0 Axes>"
      ]
     },
     "metadata": {},
     "output_type": "display_data"
    },
    {
     "data": {
      "text/plain": [
       "<Figure size 640x480 with 0 Axes>"
      ]
     },
     "metadata": {},
     "output_type": "display_data"
    },
    {
     "data": {
      "text/plain": [
       "<Figure size 640x480 with 0 Axes>"
      ]
     },
     "metadata": {},
     "output_type": "display_data"
    },
    {
     "data": {
      "text/plain": [
       "<Figure size 640x480 with 0 Axes>"
      ]
     },
     "metadata": {},
     "output_type": "display_data"
    },
    {
     "data": {
      "text/plain": [
       "<Figure size 640x480 with 0 Axes>"
      ]
     },
     "metadata": {},
     "output_type": "display_data"
    },
    {
     "data": {
      "text/plain": [
       "<Figure size 640x480 with 0 Axes>"
      ]
     },
     "metadata": {},
     "output_type": "display_data"
    },
    {
     "data": {
      "text/plain": [
       "<Figure size 640x480 with 0 Axes>"
      ]
     },
     "metadata": {},
     "output_type": "display_data"
    },
    {
     "data": {
      "text/plain": [
       "<Figure size 640x480 with 0 Axes>"
      ]
     },
     "metadata": {},
     "output_type": "display_data"
    },
    {
     "data": {
      "text/plain": [
       "<Figure size 640x480 with 0 Axes>"
      ]
     },
     "metadata": {},
     "output_type": "display_data"
    },
    {
     "data": {
      "text/plain": [
       "<Figure size 640x480 with 0 Axes>"
      ]
     },
     "metadata": {},
     "output_type": "display_data"
    },
    {
     "data": {
      "text/plain": [
       "<Figure size 640x480 with 0 Axes>"
      ]
     },
     "metadata": {},
     "output_type": "display_data"
    },
    {
     "data": {
      "text/plain": [
       "<Figure size 640x480 with 0 Axes>"
      ]
     },
     "metadata": {},
     "output_type": "display_data"
    },
    {
     "data": {
      "text/plain": [
       "<Figure size 640x480 with 0 Axes>"
      ]
     },
     "metadata": {},
     "output_type": "display_data"
    },
    {
     "data": {
      "text/plain": [
       "<Figure size 640x480 with 0 Axes>"
      ]
     },
     "metadata": {},
     "output_type": "display_data"
    },
    {
     "data": {
      "text/plain": [
       "<Figure size 640x480 with 0 Axes>"
      ]
     },
     "metadata": {},
     "output_type": "display_data"
    },
    {
     "data": {
      "text/plain": [
       "<Figure size 640x480 with 0 Axes>"
      ]
     },
     "metadata": {},
     "output_type": "display_data"
    },
    {
     "data": {
      "text/plain": [
       "<Figure size 640x480 with 0 Axes>"
      ]
     },
     "metadata": {},
     "output_type": "display_data"
    },
    {
     "data": {
      "text/plain": [
       "<Figure size 640x480 with 0 Axes>"
      ]
     },
     "metadata": {},
     "output_type": "display_data"
    },
    {
     "data": {
      "text/plain": [
       "<Figure size 640x480 with 0 Axes>"
      ]
     },
     "metadata": {},
     "output_type": "display_data"
    },
    {
     "data": {
      "text/plain": [
       "<Figure size 640x480 with 0 Axes>"
      ]
     },
     "metadata": {},
     "output_type": "display_data"
    },
    {
     "data": {
      "text/plain": [
       "<Figure size 640x480 with 0 Axes>"
      ]
     },
     "metadata": {},
     "output_type": "display_data"
    },
    {
     "data": {
      "text/plain": [
       "<Figure size 640x480 with 0 Axes>"
      ]
     },
     "metadata": {},
     "output_type": "display_data"
    },
    {
     "data": {
      "text/plain": [
       "<Figure size 640x480 with 0 Axes>"
      ]
     },
     "metadata": {},
     "output_type": "display_data"
    },
    {
     "data": {
      "text/plain": [
       "<Figure size 640x480 with 0 Axes>"
      ]
     },
     "metadata": {},
     "output_type": "display_data"
    },
    {
     "data": {
      "text/plain": [
       "<Figure size 640x480 with 0 Axes>"
      ]
     },
     "metadata": {},
     "output_type": "display_data"
    },
    {
     "data": {
      "text/plain": [
       "<Figure size 640x480 with 0 Axes>"
      ]
     },
     "metadata": {},
     "output_type": "display_data"
    },
    {
     "data": {
      "text/plain": [
       "<Figure size 640x480 with 0 Axes>"
      ]
     },
     "metadata": {},
     "output_type": "display_data"
    },
    {
     "data": {
      "text/plain": [
       "<Figure size 640x480 with 0 Axes>"
      ]
     },
     "metadata": {},
     "output_type": "display_data"
    },
    {
     "data": {
      "text/plain": [
       "<Figure size 640x480 with 0 Axes>"
      ]
     },
     "metadata": {},
     "output_type": "display_data"
    },
    {
     "data": {
      "text/plain": [
       "<Figure size 640x480 with 0 Axes>"
      ]
     },
     "metadata": {},
     "output_type": "display_data"
    },
    {
     "data": {
      "text/plain": [
       "<Figure size 640x480 with 0 Axes>"
      ]
     },
     "metadata": {},
     "output_type": "display_data"
    },
    {
     "data": {
      "text/plain": [
       "<Figure size 640x480 with 0 Axes>"
      ]
     },
     "metadata": {},
     "output_type": "display_data"
    },
    {
     "data": {
      "text/plain": [
       "<Figure size 640x480 with 0 Axes>"
      ]
     },
     "metadata": {},
     "output_type": "display_data"
    },
    {
     "data": {
      "text/plain": [
       "<Figure size 640x480 with 0 Axes>"
      ]
     },
     "metadata": {},
     "output_type": "display_data"
    },
    {
     "data": {
      "text/plain": [
       "<Figure size 640x480 with 0 Axes>"
      ]
     },
     "metadata": {},
     "output_type": "display_data"
    },
    {
     "data": {
      "text/plain": [
       "<Figure size 640x480 with 0 Axes>"
      ]
     },
     "metadata": {},
     "output_type": "display_data"
    },
    {
     "data": {
      "text/plain": [
       "<Figure size 640x480 with 0 Axes>"
      ]
     },
     "metadata": {},
     "output_type": "display_data"
    },
    {
     "data": {
      "text/plain": [
       "<Figure size 640x480 with 0 Axes>"
      ]
     },
     "metadata": {},
     "output_type": "display_data"
    },
    {
     "data": {
      "text/plain": [
       "<Figure size 640x480 with 0 Axes>"
      ]
     },
     "metadata": {},
     "output_type": "display_data"
    },
    {
     "data": {
      "text/plain": [
       "<Figure size 640x480 with 0 Axes>"
      ]
     },
     "metadata": {},
     "output_type": "display_data"
    },
    {
     "data": {
      "text/plain": [
       "<Figure size 640x480 with 0 Axes>"
      ]
     },
     "metadata": {},
     "output_type": "display_data"
    },
    {
     "data": {
      "text/plain": [
       "<Figure size 640x480 with 0 Axes>"
      ]
     },
     "metadata": {},
     "output_type": "display_data"
    },
    {
     "data": {
      "text/plain": [
       "<Figure size 640x480 with 0 Axes>"
      ]
     },
     "metadata": {},
     "output_type": "display_data"
    },
    {
     "data": {
      "text/plain": [
       "<Figure size 640x480 with 0 Axes>"
      ]
     },
     "metadata": {},
     "output_type": "display_data"
    },
    {
     "data": {
      "text/plain": [
       "<Figure size 640x480 with 0 Axes>"
      ]
     },
     "metadata": {},
     "output_type": "display_data"
    },
    {
     "data": {
      "text/plain": [
       "<Figure size 640x480 with 0 Axes>"
      ]
     },
     "metadata": {},
     "output_type": "display_data"
    },
    {
     "data": {
      "text/plain": [
       "<Figure size 640x480 with 0 Axes>"
      ]
     },
     "metadata": {},
     "output_type": "display_data"
    },
    {
     "data": {
      "text/plain": [
       "<Figure size 640x480 with 0 Axes>"
      ]
     },
     "metadata": {},
     "output_type": "display_data"
    },
    {
     "data": {
      "text/plain": [
       "<Figure size 640x480 with 0 Axes>"
      ]
     },
     "metadata": {},
     "output_type": "display_data"
    },
    {
     "data": {
      "text/plain": [
       "<Figure size 640x480 with 0 Axes>"
      ]
     },
     "metadata": {},
     "output_type": "display_data"
    },
    {
     "data": {
      "text/plain": [
       "<Figure size 640x480 with 0 Axes>"
      ]
     },
     "metadata": {},
     "output_type": "display_data"
    },
    {
     "data": {
      "text/plain": [
       "<Figure size 640x480 with 0 Axes>"
      ]
     },
     "metadata": {},
     "output_type": "display_data"
    },
    {
     "data": {
      "text/plain": [
       "<Figure size 640x480 with 0 Axes>"
      ]
     },
     "metadata": {},
     "output_type": "display_data"
    },
    {
     "data": {
      "text/plain": [
       "<Figure size 640x480 with 0 Axes>"
      ]
     },
     "metadata": {},
     "output_type": "display_data"
    },
    {
     "data": {
      "text/plain": [
       "<Figure size 640x480 with 0 Axes>"
      ]
     },
     "metadata": {},
     "output_type": "display_data"
    },
    {
     "data": {
      "text/plain": [
       "<Figure size 640x480 with 0 Axes>"
      ]
     },
     "metadata": {},
     "output_type": "display_data"
    },
    {
     "data": {
      "text/plain": [
       "<Figure size 640x480 with 0 Axes>"
      ]
     },
     "metadata": {},
     "output_type": "display_data"
    },
    {
     "data": {
      "text/plain": [
       "<Figure size 640x480 with 0 Axes>"
      ]
     },
     "metadata": {},
     "output_type": "display_data"
    },
    {
     "data": {
      "text/plain": [
       "<Figure size 640x480 with 0 Axes>"
      ]
     },
     "metadata": {},
     "output_type": "display_data"
    },
    {
     "data": {
      "text/plain": [
       "<Figure size 640x480 with 0 Axes>"
      ]
     },
     "metadata": {},
     "output_type": "display_data"
    },
    {
     "data": {
      "text/plain": [
       "<Figure size 640x480 with 0 Axes>"
      ]
     },
     "metadata": {},
     "output_type": "display_data"
    },
    {
     "data": {
      "text/plain": [
       "<Figure size 640x480 with 0 Axes>"
      ]
     },
     "metadata": {},
     "output_type": "display_data"
    },
    {
     "data": {
      "text/plain": [
       "<Figure size 640x480 with 0 Axes>"
      ]
     },
     "metadata": {},
     "output_type": "display_data"
    },
    {
     "data": {
      "text/plain": [
       "<Figure size 640x480 with 0 Axes>"
      ]
     },
     "metadata": {},
     "output_type": "display_data"
    },
    {
     "data": {
      "text/plain": [
       "<Figure size 640x480 with 0 Axes>"
      ]
     },
     "metadata": {},
     "output_type": "display_data"
    },
    {
     "data": {
      "text/plain": [
       "<Figure size 640x480 with 0 Axes>"
      ]
     },
     "metadata": {},
     "output_type": "display_data"
    },
    {
     "data": {
      "text/plain": [
       "<Figure size 640x480 with 0 Axes>"
      ]
     },
     "metadata": {},
     "output_type": "display_data"
    },
    {
     "data": {
      "text/plain": [
       "<Figure size 640x480 with 0 Axes>"
      ]
     },
     "metadata": {},
     "output_type": "display_data"
    },
    {
     "data": {
      "text/plain": [
       "<Figure size 640x480 with 0 Axes>"
      ]
     },
     "metadata": {},
     "output_type": "display_data"
    },
    {
     "data": {
      "text/plain": [
       "<Figure size 640x480 with 0 Axes>"
      ]
     },
     "metadata": {},
     "output_type": "display_data"
    },
    {
     "data": {
      "text/plain": [
       "<Figure size 640x480 with 0 Axes>"
      ]
     },
     "metadata": {},
     "output_type": "display_data"
    },
    {
     "data": {
      "text/plain": [
       "<Figure size 640x480 with 0 Axes>"
      ]
     },
     "metadata": {},
     "output_type": "display_data"
    },
    {
     "data": {
      "text/plain": [
       "<Figure size 640x480 with 0 Axes>"
      ]
     },
     "metadata": {},
     "output_type": "display_data"
    },
    {
     "data": {
      "text/plain": [
       "<Figure size 640x480 with 0 Axes>"
      ]
     },
     "metadata": {},
     "output_type": "display_data"
    },
    {
     "data": {
      "text/plain": [
       "<Figure size 640x480 with 0 Axes>"
      ]
     },
     "metadata": {},
     "output_type": "display_data"
    },
    {
     "data": {
      "text/plain": [
       "<Figure size 640x480 with 0 Axes>"
      ]
     },
     "metadata": {},
     "output_type": "display_data"
    },
    {
     "data": {
      "text/plain": [
       "<Figure size 640x480 with 0 Axes>"
      ]
     },
     "metadata": {},
     "output_type": "display_data"
    },
    {
     "data": {
      "text/plain": [
       "<Figure size 640x480 with 0 Axes>"
      ]
     },
     "metadata": {},
     "output_type": "display_data"
    },
    {
     "data": {
      "text/plain": [
       "<Figure size 640x480 with 0 Axes>"
      ]
     },
     "metadata": {},
     "output_type": "display_data"
    },
    {
     "data": {
      "text/plain": [
       "<Figure size 640x480 with 0 Axes>"
      ]
     },
     "metadata": {},
     "output_type": "display_data"
    },
    {
     "data": {
      "text/plain": [
       "<Figure size 640x480 with 0 Axes>"
      ]
     },
     "metadata": {},
     "output_type": "display_data"
    },
    {
     "data": {
      "text/plain": [
       "<Figure size 640x480 with 0 Axes>"
      ]
     },
     "metadata": {},
     "output_type": "display_data"
    },
    {
     "data": {
      "text/plain": [
       "<Figure size 640x480 with 0 Axes>"
      ]
     },
     "metadata": {},
     "output_type": "display_data"
    },
    {
     "data": {
      "text/plain": [
       "<Figure size 640x480 with 0 Axes>"
      ]
     },
     "metadata": {},
     "output_type": "display_data"
    },
    {
     "data": {
      "text/plain": [
       "<Figure size 640x480 with 0 Axes>"
      ]
     },
     "metadata": {},
     "output_type": "display_data"
    },
    {
     "data": {
      "text/plain": [
       "<Figure size 640x480 with 0 Axes>"
      ]
     },
     "metadata": {},
     "output_type": "display_data"
    },
    {
     "data": {
      "text/plain": [
       "<Figure size 640x480 with 0 Axes>"
      ]
     },
     "metadata": {},
     "output_type": "display_data"
    },
    {
     "data": {
      "text/plain": [
       "<Figure size 640x480 with 0 Axes>"
      ]
     },
     "metadata": {},
     "output_type": "display_data"
    },
    {
     "data": {
      "text/plain": [
       "<Figure size 640x480 with 0 Axes>"
      ]
     },
     "metadata": {},
     "output_type": "display_data"
    },
    {
     "data": {
      "text/plain": [
       "<Figure size 640x480 with 0 Axes>"
      ]
     },
     "metadata": {},
     "output_type": "display_data"
    },
    {
     "data": {
      "text/plain": [
       "<Figure size 640x480 with 0 Axes>"
      ]
     },
     "metadata": {},
     "output_type": "display_data"
    },
    {
     "data": {
      "text/plain": [
       "<Figure size 640x480 with 0 Axes>"
      ]
     },
     "metadata": {},
     "output_type": "display_data"
    },
    {
     "data": {
      "text/plain": [
       "<Figure size 640x480 with 0 Axes>"
      ]
     },
     "metadata": {},
     "output_type": "display_data"
    },
    {
     "data": {
      "text/plain": [
       "<Figure size 640x480 with 0 Axes>"
      ]
     },
     "metadata": {},
     "output_type": "display_data"
    },
    {
     "data": {
      "text/plain": [
       "<Figure size 640x480 with 0 Axes>"
      ]
     },
     "metadata": {},
     "output_type": "display_data"
    },
    {
     "data": {
      "text/plain": [
       "<Figure size 640x480 with 0 Axes>"
      ]
     },
     "metadata": {},
     "output_type": "display_data"
    },
    {
     "data": {
      "text/plain": [
       "<Figure size 640x480 with 0 Axes>"
      ]
     },
     "metadata": {},
     "output_type": "display_data"
    },
    {
     "data": {
      "text/plain": [
       "<Figure size 640x480 with 0 Axes>"
      ]
     },
     "metadata": {},
     "output_type": "display_data"
    },
    {
     "data": {
      "text/plain": [
       "<Figure size 640x480 with 0 Axes>"
      ]
     },
     "metadata": {},
     "output_type": "display_data"
    },
    {
     "data": {
      "text/plain": [
       "<Figure size 640x480 with 0 Axes>"
      ]
     },
     "metadata": {},
     "output_type": "display_data"
    },
    {
     "data": {
      "text/plain": [
       "<Figure size 640x480 with 0 Axes>"
      ]
     },
     "metadata": {},
     "output_type": "display_data"
    },
    {
     "data": {
      "text/plain": [
       "<Figure size 640x480 with 0 Axes>"
      ]
     },
     "metadata": {},
     "output_type": "display_data"
    },
    {
     "data": {
      "text/plain": [
       "<Figure size 640x480 with 0 Axes>"
      ]
     },
     "metadata": {},
     "output_type": "display_data"
    },
    {
     "data": {
      "text/plain": [
       "<Figure size 640x480 with 0 Axes>"
      ]
     },
     "metadata": {},
     "output_type": "display_data"
    },
    {
     "data": {
      "text/plain": [
       "<Figure size 640x480 with 0 Axes>"
      ]
     },
     "metadata": {},
     "output_type": "display_data"
    },
    {
     "data": {
      "text/plain": [
       "<Figure size 640x480 with 0 Axes>"
      ]
     },
     "metadata": {},
     "output_type": "display_data"
    },
    {
     "data": {
      "text/plain": [
       "<Figure size 640x480 with 0 Axes>"
      ]
     },
     "metadata": {},
     "output_type": "display_data"
    },
    {
     "data": {
      "text/plain": [
       "<Figure size 640x480 with 0 Axes>"
      ]
     },
     "metadata": {},
     "output_type": "display_data"
    },
    {
     "data": {
      "text/plain": [
       "<Figure size 640x480 with 0 Axes>"
      ]
     },
     "metadata": {},
     "output_type": "display_data"
    },
    {
     "data": {
      "text/plain": [
       "<Figure size 640x480 with 0 Axes>"
      ]
     },
     "metadata": {},
     "output_type": "display_data"
    },
    {
     "data": {
      "text/plain": [
       "<Figure size 640x480 with 0 Axes>"
      ]
     },
     "metadata": {},
     "output_type": "display_data"
    },
    {
     "data": {
      "text/plain": [
       "<Figure size 640x480 with 0 Axes>"
      ]
     },
     "metadata": {},
     "output_type": "display_data"
    },
    {
     "data": {
      "text/plain": [
       "<Figure size 640x480 with 0 Axes>"
      ]
     },
     "metadata": {},
     "output_type": "display_data"
    },
    {
     "data": {
      "text/plain": [
       "<Figure size 640x480 with 0 Axes>"
      ]
     },
     "metadata": {},
     "output_type": "display_data"
    },
    {
     "data": {
      "text/plain": [
       "<Figure size 640x480 with 0 Axes>"
      ]
     },
     "metadata": {},
     "output_type": "display_data"
    },
    {
     "data": {
      "text/plain": [
       "<Figure size 640x480 with 0 Axes>"
      ]
     },
     "metadata": {},
     "output_type": "display_data"
    },
    {
     "data": {
      "text/plain": [
       "<Figure size 640x480 with 0 Axes>"
      ]
     },
     "metadata": {},
     "output_type": "display_data"
    },
    {
     "data": {
      "text/plain": [
       "<Figure size 640x480 with 0 Axes>"
      ]
     },
     "metadata": {},
     "output_type": "display_data"
    },
    {
     "data": {
      "text/plain": [
       "<Figure size 640x480 with 0 Axes>"
      ]
     },
     "metadata": {},
     "output_type": "display_data"
    },
    {
     "data": {
      "text/plain": [
       "<Figure size 640x480 with 0 Axes>"
      ]
     },
     "metadata": {},
     "output_type": "display_data"
    },
    {
     "data": {
      "text/plain": [
       "<Figure size 640x480 with 0 Axes>"
      ]
     },
     "metadata": {},
     "output_type": "display_data"
    },
    {
     "data": {
      "text/plain": [
       "<Figure size 640x480 with 0 Axes>"
      ]
     },
     "metadata": {},
     "output_type": "display_data"
    },
    {
     "data": {
      "text/plain": [
       "<Figure size 640x480 with 0 Axes>"
      ]
     },
     "metadata": {},
     "output_type": "display_data"
    },
    {
     "data": {
      "text/plain": [
       "<Figure size 640x480 with 0 Axes>"
      ]
     },
     "metadata": {},
     "output_type": "display_data"
    },
    {
     "data": {
      "text/plain": [
       "<Figure size 640x480 with 0 Axes>"
      ]
     },
     "metadata": {},
     "output_type": "display_data"
    },
    {
     "data": {
      "text/plain": [
       "<Figure size 640x480 with 0 Axes>"
      ]
     },
     "metadata": {},
     "output_type": "display_data"
    },
    {
     "data": {
      "text/plain": [
       "<Figure size 640x480 with 0 Axes>"
      ]
     },
     "metadata": {},
     "output_type": "display_data"
    },
    {
     "data": {
      "text/plain": [
       "<Figure size 640x480 with 0 Axes>"
      ]
     },
     "metadata": {},
     "output_type": "display_data"
    },
    {
     "data": {
      "text/plain": [
       "<Figure size 640x480 with 0 Axes>"
      ]
     },
     "metadata": {},
     "output_type": "display_data"
    },
    {
     "data": {
      "text/plain": [
       "<Figure size 640x480 with 0 Axes>"
      ]
     },
     "metadata": {},
     "output_type": "display_data"
    },
    {
     "data": {
      "text/plain": [
       "<Figure size 640x480 with 0 Axes>"
      ]
     },
     "metadata": {},
     "output_type": "display_data"
    },
    {
     "data": {
      "text/plain": [
       "<Figure size 640x480 with 0 Axes>"
      ]
     },
     "metadata": {},
     "output_type": "display_data"
    },
    {
     "data": {
      "text/plain": [
       "<Figure size 640x480 with 0 Axes>"
      ]
     },
     "metadata": {},
     "output_type": "display_data"
    },
    {
     "data": {
      "text/plain": [
       "<Figure size 640x480 with 0 Axes>"
      ]
     },
     "metadata": {},
     "output_type": "display_data"
    },
    {
     "data": {
      "text/plain": [
       "<Figure size 640x480 with 0 Axes>"
      ]
     },
     "metadata": {},
     "output_type": "display_data"
    },
    {
     "data": {
      "text/plain": [
       "<Figure size 640x480 with 0 Axes>"
      ]
     },
     "metadata": {},
     "output_type": "display_data"
    },
    {
     "data": {
      "text/plain": [
       "<Figure size 640x480 with 0 Axes>"
      ]
     },
     "metadata": {},
     "output_type": "display_data"
    },
    {
     "data": {
      "text/plain": [
       "<Figure size 640x480 with 0 Axes>"
      ]
     },
     "metadata": {},
     "output_type": "display_data"
    },
    {
     "data": {
      "text/plain": [
       "<Figure size 640x480 with 0 Axes>"
      ]
     },
     "metadata": {},
     "output_type": "display_data"
    },
    {
     "data": {
      "text/plain": [
       "<Figure size 640x480 with 0 Axes>"
      ]
     },
     "metadata": {},
     "output_type": "display_data"
    },
    {
     "data": {
      "text/plain": [
       "<Figure size 640x480 with 0 Axes>"
      ]
     },
     "metadata": {},
     "output_type": "display_data"
    },
    {
     "data": {
      "text/plain": [
       "<Figure size 640x480 with 0 Axes>"
      ]
     },
     "metadata": {},
     "output_type": "display_data"
    },
    {
     "data": {
      "text/plain": [
       "<Figure size 640x480 with 0 Axes>"
      ]
     },
     "metadata": {},
     "output_type": "display_data"
    },
    {
     "data": {
      "text/plain": [
       "<Figure size 640x480 with 0 Axes>"
      ]
     },
     "metadata": {},
     "output_type": "display_data"
    },
    {
     "data": {
      "text/plain": [
       "<Figure size 640x480 with 0 Axes>"
      ]
     },
     "metadata": {},
     "output_type": "display_data"
    },
    {
     "data": {
      "text/plain": [
       "<Figure size 640x480 with 0 Axes>"
      ]
     },
     "metadata": {},
     "output_type": "display_data"
    },
    {
     "data": {
      "text/plain": [
       "<Figure size 640x480 with 0 Axes>"
      ]
     },
     "metadata": {},
     "output_type": "display_data"
    },
    {
     "data": {
      "text/plain": [
       "<Figure size 640x480 with 0 Axes>"
      ]
     },
     "metadata": {},
     "output_type": "display_data"
    },
    {
     "data": {
      "text/plain": [
       "<Figure size 640x480 with 0 Axes>"
      ]
     },
     "metadata": {},
     "output_type": "display_data"
    },
    {
     "data": {
      "text/plain": [
       "<Figure size 640x480 with 0 Axes>"
      ]
     },
     "metadata": {},
     "output_type": "display_data"
    },
    {
     "data": {
      "text/plain": [
       "<Figure size 640x480 with 0 Axes>"
      ]
     },
     "metadata": {},
     "output_type": "display_data"
    },
    {
     "data": {
      "text/plain": [
       "<Figure size 640x480 with 0 Axes>"
      ]
     },
     "metadata": {},
     "output_type": "display_data"
    },
    {
     "data": {
      "text/plain": [
       "<Figure size 640x480 with 0 Axes>"
      ]
     },
     "metadata": {},
     "output_type": "display_data"
    },
    {
     "data": {
      "text/plain": [
       "<Figure size 640x480 with 0 Axes>"
      ]
     },
     "metadata": {},
     "output_type": "display_data"
    },
    {
     "data": {
      "text/plain": [
       "<Figure size 640x480 with 0 Axes>"
      ]
     },
     "metadata": {},
     "output_type": "display_data"
    },
    {
     "data": {
      "text/plain": [
       "<Figure size 640x480 with 0 Axes>"
      ]
     },
     "metadata": {},
     "output_type": "display_data"
    },
    {
     "data": {
      "text/plain": [
       "<Figure size 640x480 with 0 Axes>"
      ]
     },
     "metadata": {},
     "output_type": "display_data"
    },
    {
     "data": {
      "text/plain": [
       "<Figure size 640x480 with 0 Axes>"
      ]
     },
     "metadata": {},
     "output_type": "display_data"
    },
    {
     "data": {
      "text/plain": [
       "<Figure size 640x480 with 0 Axes>"
      ]
     },
     "metadata": {},
     "output_type": "display_data"
    },
    {
     "data": {
      "text/plain": [
       "<Figure size 640x480 with 0 Axes>"
      ]
     },
     "metadata": {},
     "output_type": "display_data"
    },
    {
     "data": {
      "text/plain": [
       "<Figure size 640x480 with 0 Axes>"
      ]
     },
     "metadata": {},
     "output_type": "display_data"
    },
    {
     "data": {
      "text/plain": [
       "<Figure size 640x480 with 0 Axes>"
      ]
     },
     "metadata": {},
     "output_type": "display_data"
    },
    {
     "data": {
      "text/plain": [
       "<Figure size 640x480 with 0 Axes>"
      ]
     },
     "metadata": {},
     "output_type": "display_data"
    },
    {
     "data": {
      "text/plain": [
       "<Figure size 640x480 with 0 Axes>"
      ]
     },
     "metadata": {},
     "output_type": "display_data"
    },
    {
     "data": {
      "text/plain": [
       "<Figure size 640x480 with 0 Axes>"
      ]
     },
     "metadata": {},
     "output_type": "display_data"
    },
    {
     "data": {
      "text/plain": [
       "<Figure size 640x480 with 0 Axes>"
      ]
     },
     "metadata": {},
     "output_type": "display_data"
    },
    {
     "data": {
      "text/plain": [
       "<Figure size 640x480 with 0 Axes>"
      ]
     },
     "metadata": {},
     "output_type": "display_data"
    },
    {
     "data": {
      "text/plain": [
       "<Figure size 640x480 with 0 Axes>"
      ]
     },
     "metadata": {},
     "output_type": "display_data"
    },
    {
     "data": {
      "text/plain": [
       "<Figure size 640x480 with 0 Axes>"
      ]
     },
     "metadata": {},
     "output_type": "display_data"
    },
    {
     "data": {
      "text/plain": [
       "<Figure size 640x480 with 0 Axes>"
      ]
     },
     "metadata": {},
     "output_type": "display_data"
    },
    {
     "data": {
      "text/plain": [
       "<Figure size 640x480 with 0 Axes>"
      ]
     },
     "metadata": {},
     "output_type": "display_data"
    },
    {
     "data": {
      "text/plain": [
       "<Figure size 640x480 with 0 Axes>"
      ]
     },
     "metadata": {},
     "output_type": "display_data"
    },
    {
     "data": {
      "text/plain": [
       "<Figure size 640x480 with 0 Axes>"
      ]
     },
     "metadata": {},
     "output_type": "display_data"
    },
    {
     "data": {
      "text/plain": [
       "<Figure size 640x480 with 0 Axes>"
      ]
     },
     "metadata": {},
     "output_type": "display_data"
    },
    {
     "data": {
      "text/plain": [
       "<Figure size 640x480 with 0 Axes>"
      ]
     },
     "metadata": {},
     "output_type": "display_data"
    },
    {
     "data": {
      "text/plain": [
       "<Figure size 640x480 with 0 Axes>"
      ]
     },
     "metadata": {},
     "output_type": "display_data"
    },
    {
     "data": {
      "text/plain": [
       "<Figure size 640x480 with 0 Axes>"
      ]
     },
     "metadata": {},
     "output_type": "display_data"
    },
    {
     "data": {
      "text/plain": [
       "<Figure size 640x480 with 0 Axes>"
      ]
     },
     "metadata": {},
     "output_type": "display_data"
    },
    {
     "data": {
      "text/plain": [
       "<Figure size 640x480 with 0 Axes>"
      ]
     },
     "metadata": {},
     "output_type": "display_data"
    },
    {
     "data": {
      "text/plain": [
       "<Figure size 640x480 with 0 Axes>"
      ]
     },
     "metadata": {},
     "output_type": "display_data"
    },
    {
     "data": {
      "text/plain": [
       "<Figure size 640x480 with 0 Axes>"
      ]
     },
     "metadata": {},
     "output_type": "display_data"
    },
    {
     "data": {
      "text/plain": [
       "<Figure size 640x480 with 0 Axes>"
      ]
     },
     "metadata": {},
     "output_type": "display_data"
    },
    {
     "data": {
      "text/plain": [
       "<Figure size 640x480 with 0 Axes>"
      ]
     },
     "metadata": {},
     "output_type": "display_data"
    },
    {
     "data": {
      "text/plain": [
       "<Figure size 640x480 with 0 Axes>"
      ]
     },
     "metadata": {},
     "output_type": "display_data"
    },
    {
     "data": {
      "text/plain": [
       "<Figure size 640x480 with 0 Axes>"
      ]
     },
     "metadata": {},
     "output_type": "display_data"
    },
    {
     "data": {
      "text/plain": [
       "<Figure size 640x480 with 0 Axes>"
      ]
     },
     "metadata": {},
     "output_type": "display_data"
    },
    {
     "data": {
      "text/plain": [
       "<Figure size 640x480 with 0 Axes>"
      ]
     },
     "metadata": {},
     "output_type": "display_data"
    },
    {
     "data": {
      "text/plain": [
       "<Figure size 640x480 with 0 Axes>"
      ]
     },
     "metadata": {},
     "output_type": "display_data"
    },
    {
     "data": {
      "text/plain": [
       "<Figure size 640x480 with 0 Axes>"
      ]
     },
     "metadata": {},
     "output_type": "display_data"
    },
    {
     "data": {
      "text/plain": [
       "<Figure size 640x480 with 0 Axes>"
      ]
     },
     "metadata": {},
     "output_type": "display_data"
    },
    {
     "data": {
      "text/plain": [
       "<Figure size 640x480 with 0 Axes>"
      ]
     },
     "metadata": {},
     "output_type": "display_data"
    },
    {
     "data": {
      "text/plain": [
       "<Figure size 640x480 with 0 Axes>"
      ]
     },
     "metadata": {},
     "output_type": "display_data"
    },
    {
     "data": {
      "text/plain": [
       "<Figure size 640x480 with 0 Axes>"
      ]
     },
     "metadata": {},
     "output_type": "display_data"
    },
    {
     "data": {
      "text/plain": [
       "<Figure size 640x480 with 0 Axes>"
      ]
     },
     "metadata": {},
     "output_type": "display_data"
    },
    {
     "data": {
      "text/plain": [
       "<Figure size 640x480 with 0 Axes>"
      ]
     },
     "metadata": {},
     "output_type": "display_data"
    },
    {
     "data": {
      "text/plain": [
       "<Figure size 640x480 with 0 Axes>"
      ]
     },
     "metadata": {},
     "output_type": "display_data"
    },
    {
     "data": {
      "text/plain": [
       "<Figure size 640x480 with 0 Axes>"
      ]
     },
     "metadata": {},
     "output_type": "display_data"
    },
    {
     "data": {
      "text/plain": [
       "<Figure size 640x480 with 0 Axes>"
      ]
     },
     "metadata": {},
     "output_type": "display_data"
    },
    {
     "data": {
      "text/plain": [
       "<Figure size 640x480 with 0 Axes>"
      ]
     },
     "metadata": {},
     "output_type": "display_data"
    },
    {
     "data": {
      "text/plain": [
       "<Figure size 640x480 with 0 Axes>"
      ]
     },
     "metadata": {},
     "output_type": "display_data"
    },
    {
     "data": {
      "text/plain": [
       "<Figure size 640x480 with 0 Axes>"
      ]
     },
     "metadata": {},
     "output_type": "display_data"
    },
    {
     "data": {
      "text/plain": [
       "<Figure size 640x480 with 0 Axes>"
      ]
     },
     "metadata": {},
     "output_type": "display_data"
    },
    {
     "data": {
      "text/plain": [
       "<Figure size 640x480 with 0 Axes>"
      ]
     },
     "metadata": {},
     "output_type": "display_data"
    },
    {
     "data": {
      "text/plain": [
       "<Figure size 640x480 with 0 Axes>"
      ]
     },
     "metadata": {},
     "output_type": "display_data"
    },
    {
     "data": {
      "text/plain": [
       "<Figure size 640x480 with 0 Axes>"
      ]
     },
     "metadata": {},
     "output_type": "display_data"
    },
    {
     "data": {
      "text/plain": [
       "<Figure size 640x480 with 0 Axes>"
      ]
     },
     "metadata": {},
     "output_type": "display_data"
    },
    {
     "data": {
      "text/plain": [
       "<Figure size 640x480 with 0 Axes>"
      ]
     },
     "metadata": {},
     "output_type": "display_data"
    },
    {
     "data": {
      "text/plain": [
       "<Figure size 640x480 with 0 Axes>"
      ]
     },
     "metadata": {},
     "output_type": "display_data"
    },
    {
     "data": {
      "text/plain": [
       "<Figure size 640x480 with 0 Axes>"
      ]
     },
     "metadata": {},
     "output_type": "display_data"
    },
    {
     "data": {
      "text/plain": [
       "<Figure size 640x480 with 0 Axes>"
      ]
     },
     "metadata": {},
     "output_type": "display_data"
    },
    {
     "data": {
      "text/plain": [
       "<Figure size 640x480 with 0 Axes>"
      ]
     },
     "metadata": {},
     "output_type": "display_data"
    },
    {
     "data": {
      "text/plain": [
       "<Figure size 640x480 with 0 Axes>"
      ]
     },
     "metadata": {},
     "output_type": "display_data"
    },
    {
     "data": {
      "text/plain": [
       "<Figure size 640x480 with 0 Axes>"
      ]
     },
     "metadata": {},
     "output_type": "display_data"
    },
    {
     "data": {
      "text/plain": [
       "<Figure size 640x480 with 0 Axes>"
      ]
     },
     "metadata": {},
     "output_type": "display_data"
    },
    {
     "data": {
      "text/plain": [
       "<Figure size 640x480 with 0 Axes>"
      ]
     },
     "metadata": {},
     "output_type": "display_data"
    },
    {
     "data": {
      "text/plain": [
       "<Figure size 640x480 with 0 Axes>"
      ]
     },
     "metadata": {},
     "output_type": "display_data"
    },
    {
     "data": {
      "text/plain": [
       "<Figure size 640x480 with 0 Axes>"
      ]
     },
     "metadata": {},
     "output_type": "display_data"
    },
    {
     "data": {
      "text/plain": [
       "<Figure size 640x480 with 0 Axes>"
      ]
     },
     "metadata": {},
     "output_type": "display_data"
    },
    {
     "data": {
      "text/plain": [
       "<Figure size 640x480 with 0 Axes>"
      ]
     },
     "metadata": {},
     "output_type": "display_data"
    },
    {
     "data": {
      "text/plain": [
       "<Figure size 640x480 with 0 Axes>"
      ]
     },
     "metadata": {},
     "output_type": "display_data"
    },
    {
     "data": {
      "text/plain": [
       "<Figure size 640x480 with 0 Axes>"
      ]
     },
     "metadata": {},
     "output_type": "display_data"
    },
    {
     "data": {
      "text/plain": [
       "<Figure size 640x480 with 0 Axes>"
      ]
     },
     "metadata": {},
     "output_type": "display_data"
    },
    {
     "data": {
      "text/plain": [
       "<Figure size 640x480 with 0 Axes>"
      ]
     },
     "metadata": {},
     "output_type": "display_data"
    },
    {
     "data": {
      "text/plain": [
       "<Figure size 640x480 with 0 Axes>"
      ]
     },
     "metadata": {},
     "output_type": "display_data"
    },
    {
     "data": {
      "text/plain": [
       "<Figure size 640x480 with 0 Axes>"
      ]
     },
     "metadata": {},
     "output_type": "display_data"
    },
    {
     "data": {
      "text/plain": [
       "<Figure size 640x480 with 0 Axes>"
      ]
     },
     "metadata": {},
     "output_type": "display_data"
    },
    {
     "data": {
      "text/plain": [
       "<Figure size 640x480 with 0 Axes>"
      ]
     },
     "metadata": {},
     "output_type": "display_data"
    },
    {
     "data": {
      "text/plain": [
       "<Figure size 640x480 with 0 Axes>"
      ]
     },
     "metadata": {},
     "output_type": "display_data"
    },
    {
     "data": {
      "text/plain": [
       "<Figure size 640x480 with 0 Axes>"
      ]
     },
     "metadata": {},
     "output_type": "display_data"
    },
    {
     "data": {
      "text/plain": [
       "<Figure size 640x480 with 0 Axes>"
      ]
     },
     "metadata": {},
     "output_type": "display_data"
    },
    {
     "data": {
      "text/plain": [
       "<Figure size 640x480 with 0 Axes>"
      ]
     },
     "metadata": {},
     "output_type": "display_data"
    }
   ],
   "source": [
    "from skimage import exposure\n",
    "from skimage.color import rgb2gray\n",
    "from skimage import filters\n",
    "\n",
    "import matplotlib.pyplot as plt\n",
    "import matplotlib.image as mpimg\n",
    "\n",
    "def processY(filename: str= \"../zip/test/\") -> None:\n",
    "    \"\"\"\n",
    "    View multiple images stored in files, stacking vertically\n",
    "\n",
    "    Arguments:\n",
    "        filename: str - path to filename containing image\n",
    "    \"\"\"\n",
    "    X = mpimg.imread(filename)\n",
    "    # <something gets done here>\n",
    "    X = rgb2gray(X)\n",
    "    thresh = filters.threshold_isodata(X)\n",
    "    binary = X > thresh\n",
    "    crop = binary[40:100,0:56]\n",
    "    plt.figure()\n",
    "    #plt.imshow(crop)\n",
    "    return crop\n",
    "\n",
    "def processX(filename: str= \"../zip/train/\") -> None:\n",
    "    \"\"\"\n",
    "    View multiple images stored in files, stacking vertically\n",
    "\n",
    "    Arguments:\n",
    "        filename: str - path to filename containing image\n",
    "    \"\"\"\n",
    "    X = mpimg.imread(filename)\n",
    "    # <something gets done here>\n",
    "    X = rgb2gray(X)\n",
    "    thresh = filters.threshold_isodata(X)\n",
    "    binary = X > thresh\n",
    "    crop = binary[40:100,0:56]\n",
    "    plt.figure()\n",
    "    #plt.imshow(crop)\n",
    "    return crop\n",
    "\n",
    "#plt.rcParams['figure.max_open_warning'] = 300\n",
    "Y = []\n",
    "for file in Y_files:\n",
    "    Y.append(process(file))\n"
   ]
  },
  {
   "cell_type": "code",
   "execution_count": null,
   "id": "b6971416-432b-4d63-86c6-6dffba5a3185",
   "metadata": {},
   "outputs": [],
   "source": [
    "#fig, ax = filters.try_all_threshold(Y_imgs[1], figsize=(10, 10), verbose=False)\n",
    "X = []\n",
    "for file in X_files:\n",
    "    X.append(processX(file))"
   ]
  },
  {
   "cell_type": "markdown",
   "id": "e3b51eff-b939-4579-a43e-6ace79337748",
   "metadata": {},
   "source": [
    "---\n",
    "\n",
    "<center><h2>Entrenar y predecir kmeans</h2></center>\n",
    "\n",
    "---"
   ]
  },
  {
   "cell_type": "code",
   "execution_count": 24,
   "id": "92fbaeaf-eb13-4d64-b94f-881b7e24e910",
   "metadata": {},
   "outputs": [
    {
     "name": "stdout",
     "output_type": "stream",
     "text": [
      "ARI: -0.004981339191716878 \n",
      "\n",
      "Clusters:\n",
      "   0 size 7\n",
      "   1 size 131\n",
      "   2 size 31\n",
      "   3 size 30\n",
      "   4 size 66\n",
      "\n",
      "Real clusters:\n",
      "   0 size 65\n",
      "   1 size 65\n",
      "   2 size 65\n",
      "   3 size 65\n",
      "   4 size 5\n",
      "\n"
     ]
    },
    {
     "ename": "KeyError",
     "evalue": "14",
     "output_type": "error",
     "traceback": [
      "\u001b[1;31m---------------------------------------------------------------------------\u001b[0m",
      "\u001b[1;31mKeyError\u001b[0m                                  Traceback (most recent call last)",
      "Cell \u001b[1;32mIn [24], line 28\u001b[0m\n\u001b[0;32m     25\u001b[0m \u001b[38;5;28mprint\u001b[39m(\u001b[38;5;124m\"\u001b[39m\u001b[38;5;124mARI:\u001b[39m\u001b[38;5;124m\"\u001b[39m, ari, \u001b[38;5;124m\"\u001b[39m\u001b[38;5;130;01m\\n\u001b[39;00m\u001b[38;5;124m\"\u001b[39m)\n\u001b[0;32m     27\u001b[0m print_cluster_sizes(pred, y_clusters)\n\u001b[1;32m---> 28\u001b[0m \u001b[43mdraw_clusters\u001b[49m\u001b[43m(\u001b[49m\u001b[43mY\u001b[49m\u001b[43m,\u001b[49m\u001b[43m \u001b[49m\u001b[43mpred\u001b[49m\u001b[43m)\u001b[49m \u001b[38;5;66;03m# Si se quieren ver las cartas originales sustituir por Y_imgs\u001b[39;00m\n",
      "Cell \u001b[1;32mIn [5], line 22\u001b[0m, in \u001b[0;36mdraw_clusters\u001b[1;34m(imgs, pred)\u001b[0m\n\u001b[0;32m     19\u001b[0m cluster_size \u001b[38;5;241m=\u001b[39m \u001b[38;5;28mlen\u001b[39m([_ \u001b[38;5;28;01mfor\u001b[39;00m _ \u001b[38;5;129;01min\u001b[39;00m pred \u001b[38;5;28;01mif\u001b[39;00m _ \u001b[38;5;241m==\u001b[39m targetClusterN])\n\u001b[0;32m     20\u001b[0m nrows \u001b[38;5;241m=\u001b[39m cluster_size\u001b[38;5;241m/\u001b[39m\u001b[38;5;241m/\u001b[39m\u001b[38;5;241m10\u001b[39m \u001b[38;5;241m+\u001b[39m (\u001b[38;5;241m1\u001b[39m \u001b[38;5;28;01mif\u001b[39;00m cluster_size\u001b[38;5;241m%\u001b[39m\u001b[38;5;241m10\u001b[39m \u001b[38;5;241m!=\u001b[39m \u001b[38;5;241m0\u001b[39m \u001b[38;5;28;01melse\u001b[39;00m \u001b[38;5;241m0\u001b[39m)\n\u001b[1;32m---> 22\u001b[0m fig, axs \u001b[38;5;241m=\u001b[39m plt\u001b[38;5;241m.\u001b[39msubplots(ncols\u001b[38;5;241m=\u001b[39m\u001b[38;5;241m10\u001b[39m, nrows\u001b[38;5;241m=\u001b[39mnrows, figsize\u001b[38;5;241m=\u001b[39m(\u001b[38;5;241m30\u001b[39m, \u001b[43mfigheights\u001b[49m\u001b[43m[\u001b[49m\u001b[43mnrows\u001b[49m\u001b[43m]\u001b[49m))\n\u001b[0;32m     23\u001b[0m fig\u001b[38;5;241m.\u001b[39mtight_layout()\n\u001b[0;32m     24\u001b[0m plt\u001b[38;5;241m.\u001b[39mfigure(constrained_layout\u001b[38;5;241m=\u001b[39m\u001b[38;5;28;01mTrue\u001b[39;00m)\n",
      "\u001b[1;31mKeyError\u001b[0m: 14"
     ]
    },
    {
     "data": {
      "image/png": "[encoded data removed]",
      "text/plain": [
       "<Figure size 3000x500 with 10 Axes>"
      ]
     },
     "metadata": {},
     "output_type": "display_data"
    },
    {
     "data": {
      "text/plain": [
       "<Figure size 640x480 with 0 Axes>"
      ]
     },
     "metadata": {},
     "output_type": "display_data"
    }
   ],
   "source": [
    "# Convertir en arrays de una dimension\n",
    "    \n",
    "X_flat = np.array([x.flatten() for x in X])\n",
    "Y_flat = np.array([y.flatten() for y in Y])\n",
    "\n",
    "#--------------------------------------------------------------------------------------------\n",
    "\n",
    "# 4 palos más el joker (0=treboles, 1=picas, 2=corazones, 3=diamantes, 5=joker)\n",
    "kmeans = KMeans(n_clusters=5, random_state=42)\n",
    "kmeans.fit(X_flat)\n",
    "\n",
    "pred = kmeans.predict(Y_flat)\n",
    "\n",
    "# ARI\n",
    "# x=0-80, y=0-60 -> brightness=130 -> empty=10 -> hsv: 0.07203994977345117\n",
    "# x=0-80, y=0-60 -> empty=10 -> hsv: 0.08121001181664109\n",
    "# x=0-80, y=0-60 -> empty=10 -> equalize histogram (not) -> hsv -> normalize: ARI: 0.09604033793216146\n",
    "# empty 10 -> crop 80/5-60 -> resize 40/40, equalize histogram (not) -> hsv -> normalize: ARI: 0.11339544956712676\n",
    "# empty 10 -> crop 80/60 -> resize 40/40, equalize histogram (not) -> hsv -> normalize: ARI: 0.10612161862908516 \n",
    "# ARI: 0.26160610896074815\n",
    "\n",
    "#--------------------------------------------------------------------------------------------\n",
    "\n",
    "ari = adjusted_rand_score(y_clusters, pred)\n",
    "print(\"ARI:\", ari, \"\\n\")\n",
    "\n",
    "print_cluster_sizes(pred, y_clusters)\n",
    "draw_clusters(Y, pred) # Si se quieren ver las cartas originales sustituir por Y_imgs"
   ]
  },
  {
   "cell_type": "markdown",
   "id": "17883fc1-80f2-4aaf-a26a-fa138bfb1d84",
   "metadata": {},
   "source": [
    "---\n",
    "\n",
    "<center><h2>CSV</h2></center>\n",
    "\n",
    "---"
   ]
  },
  {
   "cell_type": "code",
   "execution_count": 11,
   "id": "43c93ef1-362b-4f20-bcac-d34274fce7ea",
   "metadata": {},
   "outputs": [],
   "source": [
    "ids = [y.split(\"/\")[-1][:-4] for y in Y_files]\n",
    "#print(Y_files[0].split())\n",
    "\n",
    "solucion = pd.DataFrame(data = { \"id\" : ids, \"suit\": pred })\n",
    "solucion.to_csv(\"solucion.csv\", index=False)"
   ]
  },
  {
   "cell_type": "code",
   "execution_count": 12,
   "id": "907bc99e-1d4d-4775-a31c-6c63b848f23e",
   "metadata": {},
   "outputs": [
    {
     "data": {
      "text/html": [
       "<div>\n",
       "<style scoped>\n",
       "    .dataframe tbody tr th:only-of-type {\n",
       "        vertical-align: middle;\n",
       "    }\n",
       "\n",
       "    .dataframe tbody tr th {\n",
       "        vertical-align: top;\n",
       "    }\n",
       "\n",
       "    .dataframe thead th {\n",
       "        text-align: right;\n",
       "    }\n",
       "</style>\n",
       "<table border=\"1\" class=\"dataframe\">\n",
       "  <thead>\n",
       "    <tr style=\"text-align: right;\">\n",
       "      <th></th>\n",
       "      <th>id</th>\n",
       "      <th>suit</th>\n",
       "    </tr>\n",
       "  </thead>\n",
       "  <tbody>\n",
       "    <tr>\n",
       "      <th>0</th>\n",
       "      <td>37</td>\n",
       "      <td>2</td>\n",
       "    </tr>\n",
       "    <tr>\n",
       "      <th>1</th>\n",
       "      <td>65</td>\n",
       "      <td>1</td>\n",
       "    </tr>\n",
       "    <tr>\n",
       "      <th>2</th>\n",
       "      <td>91</td>\n",
       "      <td>1</td>\n",
       "    </tr>\n",
       "    <tr>\n",
       "      <th>3</th>\n",
       "      <td>106</td>\n",
       "      <td>2</td>\n",
       "    </tr>\n",
       "    <tr>\n",
       "      <th>4</th>\n",
       "      <td>130</td>\n",
       "      <td>1</td>\n",
       "    </tr>\n",
       "    <tr>\n",
       "      <th>...</th>\n",
       "      <td>...</td>\n",
       "      <td>...</td>\n",
       "    </tr>\n",
       "    <tr>\n",
       "      <th>260</th>\n",
       "      <td>7932</td>\n",
       "      <td>2</td>\n",
       "    </tr>\n",
       "    <tr>\n",
       "      <th>261</th>\n",
       "      <td>7935</td>\n",
       "      <td>2</td>\n",
       "    </tr>\n",
       "    <tr>\n",
       "      <th>262</th>\n",
       "      <td>8085</td>\n",
       "      <td>2</td>\n",
       "    </tr>\n",
       "    <tr>\n",
       "      <th>263</th>\n",
       "      <td>8102</td>\n",
       "      <td>1</td>\n",
       "    </tr>\n",
       "    <tr>\n",
       "      <th>264</th>\n",
       "      <td>8137</td>\n",
       "      <td>2</td>\n",
       "    </tr>\n",
       "  </tbody>\n",
       "</table>\n",
       "<p>265 rows × 2 columns</p>\n",
       "</div>"
      ],
      "text/plain": [
       "       id  suit\n",
       "0      37     2\n",
       "1      65     1\n",
       "2      91     1\n",
       "3     106     2\n",
       "4     130     1\n",
       "..    ...   ...\n",
       "260  7932     2\n",
       "261  7935     2\n",
       "262  8085     2\n",
       "263  8102     1\n",
       "264  8137     2\n",
       "\n",
       "[265 rows x 2 columns]"
      ]
     },
     "execution_count": 12,
     "metadata": {},
     "output_type": "execute_result"
    }
   ],
   "source": [
    "solucion"
   ]
  },
  {
   "cell_type": "markdown",
   "id": "49b090c1-c4b5-42ef-b250-ca35bd5935f6",
   "metadata": {},
   "source": [
    "---\n",
    "\n",
    "<center><h2>Pruebas</h2></center>\n",
    "\n",
    "---"
   ]
  },
  {
   "cell_type": "code",
   "execution_count": null,
   "id": "4234cec6-3b82-45ac-b1a9-4bbd699875a2",
   "metadata": {},
   "outputs": [],
   "source": [
    "def draw_contours(_img):\n",
    "    img = _img.copy()\n",
    "    \n",
    "    imgGry = cv2.cvtColor(img, cv2.COLOR_BGR2GRAY)\n",
    "    \n",
    "    gaussian = cv2.GaussianBlur(imgGry,(3,3),cv2.BORDER_DEFAULT)\n",
    "    edges = cv2.Canny(gaussian,100,200)\n",
    "    \n",
    "    #_, treshold = cv2.threshold(imgGry, 127, 255, 0)\n",
    "    contours, hierarchy = cv2.findContours(edges, cv2.RETR_TREE, cv2.CHAIN_APPROX_NONE)\n",
    "    #contour = max(contours, key = len)\n",
    " #    print(contours[2])\n",
    "\n",
    "#    print(contour)\n",
    "\n",
    "    for contour in contours:\n",
    "        contourImg = cv2.drawContours(img, contour, -1, (0,255,0), 3)\n",
    "    \n",
    "    #for contour in contours:\n",
    "    #    #print(contour)\n",
    "    #    approx = cv2.approxPolyDP(contour, 0.01* cv2.arcLength(contour, True), True)\n",
    "    #    cv2.drawContours(img, [approx], 0, (0, 0, 0), 2)\n",
    "    \n",
    "    return img\n",
    "\n",
    "#plot_image(draw_contours(X_imgs[104]))"
   ]
  },
  {
   "cell_type": "code",
   "execution_count": null,
   "id": "f675fff2-aea4-4ebd-b0ab-2083e0fe165e",
   "metadata": {},
   "outputs": [],
   "source": [
    "IMG_SIZE = 224\n",
    "\n",
    "crop_x1, crop_x2 = 0, 80\n",
    "crop_y1, crop_y2 = 5, 60\n",
    "\n",
    "resize_h, resize_w = 40, 40\n",
    "\n",
    "treshold_empty_space = 10\n",
    "brightness_lv = 130\n",
    "\n",
    "# x = [ Transformator(img)\n",
    "#         #.remove_empty_space(treshold=treshold_empty_space, limit_x=crop_x2, limit_y=crop_y2)\n",
    "#         #.crop(crop_x1, crop_x2, crop_y1, crop_y2)\n",
    "#         #.resize(h=resize_h, w=resize_w)\n",
    "#         .mask(black=([0, 0, 0], [0, 0, 0]))\n",
    "#         #.remove_channel(0)\n",
    "#         #.remove_channel(1)\n",
    "#         #.increase_contrast_brightness(contrast=1, brightness=0)\n",
    "#         #.equalize_histogram()\n",
    "#         .img\n",
    "     \n",
    "#      for img in X_imgs[:1000]\n",
    "#]\n",
    "\n",
    "# x = [ draw_contours(img) for img in Y_imgs ]\n",
    "\n",
    "# for img in x:\n",
    "#     for line in img:\n",
    "#         for i, pixel in enumerate(line):\n",
    "#             if not (pixel[1] == 255 and pixel[0] == 0 and pixel[2] == 0):\n",
    "#                 line[i] = [0, 0, 0]\n",
    "\n",
    "#x = [ Transformator(img).remove_channel(0).remove_channel(1).img for img in x ]\n",
    "#x = [ Transformator(img).threshold_and().hsv().closing().closing().img for img in X_imgs[:100] ]\n",
    "#save_files(x, \"../zip/asdfasdf/\", X_files)"
   ]
  },
  {
   "cell_type": "code",
   "execution_count": null,
   "id": "679dfd63-1fc6-494f-a3df-87b1a580550d",
   "metadata": {},
   "outputs": [],
   "source": [
    "##################\n",
    "# Flip if needed #\n",
    "##################\n",
    "# img = X_imgs[102]\n",
    "# #w, h, = img.shape[0], img.shape[1]\n",
    "# size = 224\n",
    "\n",
    "# UL = img[0:100, 0:100]\n",
    "# UR = img[0:100, size-100:size]\n",
    "# DL = img[size-100:size, 0:100]\n",
    "# DR = img[size-100:size, size-100:size]\n",
    "\n",
    "# #UL = cv2.cvtColor(img, cv2.COLOR_BGR2GRAY)\n",
    "\n",
    "# import statistics as stats\n",
    "\n",
    "# #plot_image(UL)\n",
    "# UL = list(UL.flatten())\n",
    "# mean = stats.variance(UL)\n",
    "# variance = sum([ abs(mean - x)**2 for x in UL ])/ len(UL)\n",
    "\n",
    "\n",
    "# print(variance)"
   ]
  },
  {
   "cell_type": "code",
   "execution_count": null,
   "id": "b4a5fdd6-90ff-415c-b797-35ce36be22c6",
   "metadata": {},
   "outputs": [],
   "source": [
    "# img = X_imgs[3]\n",
    "\n",
    "# gray = cv2.cvtColor(img,cv2.COLOR_BGR2GRAY)\n",
    "# ret, thresh = cv2.threshold(gray,0,255,cv2.THRESH_BINARY_INV+cv2.THRESH_OTSU)\n",
    "\n",
    "# # noise removal\n",
    "# kernel = np.ones((3,3),np.uint8)\n",
    "# opening = cv2.morphologyEx(thresh,cv2.MORPH_OPEN,kernel, iterations = 2)\n",
    "\n",
    "# # sure background area\n",
    "# sure_bg = cv2.dilate(opening,kernel,iterations=3)\n",
    "\n",
    "# # Finding sure foreground area\n",
    "# dist_transform = cv2.distanceTransform(opening,cv2.DIST_L2,5)\n",
    "# ret, sure_fg = cv2.threshold(dist_transform,0.7*dist_transform.max(),255,0)\n",
    "\n",
    "# # Finding unknown region\n",
    "# sure_fg = np.uint8(sure_fg)\n",
    "# unknown = cv2.subtract(sure_bg,sure_fg)\n",
    "\n",
    "# # Marker labelling\n",
    "# ret, markers = cv2.connectedComponents(sure_fg)\n",
    "# # Add one to all labels so that sure background is not 0, but 1\n",
    "# markers = markers+1\n",
    "# # Now, mark the region of unknown with zero\n",
    "# markers[unknown==255] = 0\n",
    "\n",
    "# markers = cv2.watershed(img,markers)\n",
    "# img[markers == -1] = [255,0,0]\n",
    "\n",
    "# plot_image(img)"
   ]
  },
  {
   "cell_type": "code",
   "execution_count": null,
   "id": "e7b45d6a-e2e2-4363-b820-5e6a96366b86",
   "metadata": {},
   "outputs": [],
   "source": [
    "#M = cv2.getRotationMatrix2D((112, 112), -45, 0.7)\n",
    "#rotated = cv2.warpAffine(X_imgs[100], M, (224, 224))\n",
    "#plot_image(rotated)"
   ]
  },
  {
   "cell_type": "code",
   "execution_count": null,
   "id": "1b4f1f78-59f2-4663-b6f9-19a5581cf038",
   "metadata": {},
   "outputs": [],
   "source": []
  }
 ],
 "metadata": {
  "kernelspec": {
   "display_name": "Python 3 (ipykernel)",
   "language": "python",
   "name": "python3"
  },
  "language_info": {
   "codemirror_mode": {
    "name": "ipython",
    "version": 3
   },
   "file_extension": ".py",
   "mimetype": "text/x-python",
   "name": "python",
   "nbconvert_exporter": "python",
   "pygments_lexer": "ipython3",
   "version": "3.8.13"
  }
 },
 "nbformat": 4,
 "nbformat_minor": 5
}
